{
  "nbformat": 4,
  "nbformat_minor": 0,
  "metadata": {
    "colab": {
      "private_outputs": true,
      "provenance": [],
      "include_colab_link": true
    },
    "kernelspec": {
      "name": "python3",
      "display_name": "Python 3"
    },
    "language_info": {
      "name": "python"
    }
  },
  "cells": [
    {
      "cell_type": "markdown",
      "metadata": {
        "id": "view-in-github",
        "colab_type": "text"
      },
      "source": [
        "<a href=\"https://colab.research.google.com/github/berkayilmaaz/DBProgramming-Sep-2023/blob/main/V04_Vectors_ipynb_adl%C4%B1_not_defterinin_kopyas%C4%B1.ipynb\" target=\"_parent\"><img src=\"https://colab.research.google.com/assets/colab-badge.svg\" alt=\"Open In Colab\"/></a>"
      ]
    },
    {
      "cell_type": "markdown",
      "source": [
        "<table width=\"100%\">\n",
        "    <tr style=\"\">\n",
        "        <th style=\"text-align:left; padding:0px\" width=\"5%\">\n",
        "            <a href=\"https://www.marmara.edu.tr\" target=\"_blank\">\n",
        "                <img src=\"https://raw.githubusercontent.com/MU-Physics-Department/logos/master/mu_logo.png\">\n",
        "            </a>\n",
        "        </th>\n",
        "        <th style=\"padding:0px;\" width=\"35%\">\n",
        "            <img align=\"right\" src=\"https://raw.githubusercontent.com/MU-Physics-Department/logos/master/name.png\">\n",
        "        </th>\n",
        "        <th  width=\"20%\">\n",
        "            &nbsp;\n",
        "        </th>\n",
        "        <th style=\"padding:0px\" width=\"5%\">\n",
        "            <a href=\"https://www.sababozpolat.com\" target=\"_blank\" padding=\"0px\">\n",
        "                <img align=\"center\" src=\"https://raw.githubusercontent.com/MU-Physics-Department/logos/master/hp.png\">\n",
        "            </a>\n",
        "        </th>\n",
        "        <th style=\"padding:0px\" width=\"5%\">\n",
        "            <a href=\"mailto:saba.bozpolat@gmail.com\" target=\"_blank\">\n",
        "                <img align=\"center\" src=\"https://raw.githubusercontent.com/MU-Physics-Department/logos/master/email.png\">\n",
        "            </a>\n",
        "        </th>\n",
        "        <th style=\"padding:0px;\" width=\"5%\">\n",
        "            <a href=\"https://www.linkedin.com/in/saba-bozpolat-644856152/\" target=\"_blank\">\n",
        "                <img align=\"right\" src=\"https://raw.githubusercontent.com/MU-Physics-Department/logos/master/in.png\">\n",
        "            </a>\n",
        "        </th>\n",
        "        <th style=\"padding:0px;\" width=\"5%\">\n",
        "            <a href=\"https://scholar.google.com.tr/citations?user=nSiJoMYAAAAJ&hl=en\" target=\"_blank\">\n",
        "                <img align=\"right\" src=\"https://raw.githubusercontent.com/MU-Physics-Department/logos/master/GS.png\">\n",
        "            </a>\n",
        "        </th>\n",
        "        <th style=\"padding:0px;\" width=\"5%\">\n",
        "            <a href=\"https://www.researchgate.net/profile/Saba-Bozpolat\" target=\"_blank\">\n",
        "                <img align=\"right\" src=\"https://raw.githubusercontent.com/MU-Physics-Department/logos/master/RG.png\">\n",
        "            </a>\n",
        "        </th>\n",
        "        <th style=\"padding:0px\" width=\"5%\">\n",
        "            <a href=\"https://www.youtube.com/channel/UC8-uOZud6UL7oCOE2UUBunA\" target=\"_blank\">\n",
        "                <img align=\"right\" src=\"https://raw.githubusercontent.com/MU-Physics-Department/logos/master/YT.png\">\n",
        "            </a>\n",
        "        </th>\n",
        "        <th style=\"padding:0px;\" width=\"5%\">\n",
        "            <a href=\"https://github.com/sbbzplt\" target=\"_blank\">\n",
        "                <img align=\"right\" src=\"https://raw.githubusercontent.com/MU-Physics-Department/logos/master/GH.png\">\n",
        "            </a>\n",
        "        </th>\n",
        "        <th style=\"padding:0px;\" width=\"5%\">\n",
        "            <a href=\"https://join.slack.com/t/mu-fzk/shared_invite/zt-13jtd6dtd-g9zD5P4Zu0m5P0Gt2PNReQ\"\n",
        "               target=\"_blank\">\n",
        "                <img align=\"right\" src=\"https://raw.githubusercontent.com/MU-Physics-Department/logos/master/slack.png\">\n",
        "            </a>\n",
        "        </th>\n",
        "    </tr>\n",
        "</table>\n",
        "<table width=\"100%\">\n",
        "    <tr style=\"background-color:white;\">\n",
        "        <!-- <td style=\"text-align-left;padding:0px;\" width=\"10%\">\n",
        "            <a href=\"https://fef.marmara.edu.tr\"\n",
        "               target=\"_blank\">\n",
        "                <img align=\"right\" src=\"https://raw.githubusercontent.com/MU-Physics-Department/logos/master/fef.png\">\n",
        "            </a>\n",
        "        </td> -->\n",
        "        <td style=\"padding:0px\" width=\"25%\">\n",
        "            <a href=\"http://fzk.fef.marmara.edu.tr\"\n",
        "               target=\"_blank\">\n",
        "                <img align=\"right\" src=\"https://raw.githubusercontent.com/MU-Physics-Department/logos/master/fzk.png\">\n",
        "            </a>\n",
        "        </td>\n",
        "        <td width=\"10%\">\n",
        "            &nbsp;\n",
        "        </td>\n",
        "        <td style=\"padding:0px;\" width=\"65%\">\n",
        "            <a href=\"https://www.sababozpolat.com/lectures/spring-semester/scientific-programming\"\n",
        "               target=\"_blank\">\n",
        "                <img align=\"right\" src=\"https://raw.githubusercontent.com/MU-Physics-Department/logos/master/phys3011.png\">\n",
        "            </a>\n",
        "        </td>\n",
        "    </tr>\n",
        "</table>"
      ],
      "metadata": {
        "id": "LYDbVPHCwcOR"
      }
    },
    {
      "cell_type": "markdown",
      "source": [
        "# Vectors"
      ],
      "metadata": {
        "id": "qJkmkbZERJgI"
      }
    },
    {
      "cell_type": "markdown",
      "source": [
        "A vector is a 3D mathematical object represented by 3 numbers. While vector itself is represented by an over-arrow, its components are denoted by relevant subscripts. Followings are some vector representation examples.\n",
        "\n",
        "$$\n",
        "\\vec{A} = A_1 \\hat{e_1} + A_2 \\hat{e_2} + A_3 \\hat{e_3},\n",
        "$$\n",
        "$$\n",
        "\\vec{A} = A_x \\hat{i} + A_y \\hat{j} + A_z \\hat{k}.\n",
        "$$\n",
        "\n",
        "<h2> Vector Addition and Substraction </h2>\n",
        "\n",
        "To add (substract) 2 vectors, we need to add (substract) their components in themselves and consider the acquired value as the relative component of the resulting vector.\n",
        "\n",
        "**Example:**\n",
        "\n",
        "$$\n",
        "\\begin{aligned}\n",
        "\\vec{a} &= 3.2 \\hat{i} - 5.1 \\hat{j} + 2.0 \\hat{k} \\\\\n",
        "\\vec{b} &= 1.1 \\hat{i} + 4.8 \\hat{j} - 7.3 \\hat{k} \\\\\n",
        "\\vec{c} &= \\vec{a} + \\vec{b} \\\\\n",
        "&= (3.2 + 1.1) \\hat{i} + (-5.1 + 4.8) \\hat{j} + (2.0 - 7.3) \\hat{k} \\\\\n",
        "&= 4.3 \\hat{i} - 0.3 \\hat{j} - 5.3 \\hat{k} \\\\\n",
        "\\end{aligned}\n",
        "$$\n",
        "\n",
        "\n"
      ],
      "metadata": {
        "id": "HAqP6P0EYBrA"
      }
    },
    {
      "cell_type": "markdown",
      "source": [
        "<h3> Task 1 </h3>\n",
        "\n",
        "Consider following two vectors.\n",
        "\n",
        " * $\\vec{m} = 4.53 \\hat{i} + 1.86 \\hat{j} - 3.23 \\hat{k}$\n",
        " * $\\vec{n} = 5.39 \\hat{i} - 9.81 \\hat{j} + 7.09 \\hat{k}$\n",
        "\n",
        "Store each component in a different variable. Write the code for given operations.\n",
        "\n",
        " - $\\vec{m} + \\vec{n}$\n",
        " - $\\vec{m} - \\vec{n}$\n"
      ],
      "metadata": {
        "id": "79ewO7EpcTOD"
      }
    },
    {
      "cell_type": "code",
      "source": [
        "\n",
        "m_i = 4.53\n",
        "m_j = 1.86\n",
        "m_k = -3.23\n",
        "\n",
        "n_i = 5.39\n",
        "n_j = -9.81\n",
        "n_k = 7.09\n",
        "\n",
        "\n",
        "result_add_i = m_i + n_i\n",
        "result_add_j = m_j + n_j\n",
        "result_add_k = m_k + n_k\n",
        "\n",
        "\n",
        "result_subtract_i = m_i - n_i\n",
        "result_subtract_j = m_j - n_j\n",
        "result_subtract_k = m_k - n_k\n",
        "\n",
        "\n",
        "print(\"Vector m + Vector n:\")\n",
        "print(f\"i: {result_add_i}, j: {result_add_j}, k: {result_add_k}\")\n",
        "\n",
        "print(\"\\nVector m - Vector n:\")\n",
        "print(f\"i: {result_subtract_i}, j: {result_subtract_j}, k: {result_subtract_k}\")\n"
      ],
      "metadata": {
        "id": "ut8hRteQfoMU"
      },
      "execution_count": null,
      "outputs": []
    },
    {
      "cell_type": "markdown",
      "source": [
        "[click for our solution](Python04_Vectors_Solutions.ipynb)"
      ],
      "metadata": {
        "id": "5rHh-lFYe5Pj"
      }
    },
    {
      "cell_type": "markdown",
      "source": [
        "<h3> Task 2 </h3>\n",
        "\n",
        "Consider following five vectors.\n",
        "\n",
        " * $\\vec{p} = 8.90 \\hat{i} - 6.50 \\hat{j} - 0.83 \\hat{k}$\n",
        " * $\\vec{q} = 3.69 \\hat{i} + 3.59 \\hat{j} + 5.76 \\hat{k}$\n",
        " * $\\vec{r} = -2.07 \\hat{i} - 4.36 \\hat{j} + 8.70 \\hat{k}$\n",
        " * $\\vec{s} = 0.88 \\hat{i} - 7.75 \\hat{j} + 6.94 \\hat{k}$\n",
        " * $\\vec{t} = -0.14 \\hat{i} - 2.85 \\hat{j} + 3.38 \\hat{k}$\n",
        "\n",
        "Store each component in a different variable. Write the code for given operations.\n",
        "\n",
        " - $\\vec{q} + \\vec{s}$\n",
        " - $\\vec{r} - \\vec{p}$\n",
        " - $\\vec{p} + \\vec{r} + \\vec{t}$\n",
        " - $\\vec{q} + \\vec{r} - \\vec{s}$\n",
        " - $\\vec{p} + \\vec{q} - \\vec{r} + \\vec{s} - \\vec{t}$\n"
      ],
      "metadata": {
        "id": "-vdI6sL_fMOp"
      }
    },
    {
      "cell_type": "code",
      "source": [
        "\n",
        "vec_p = {'i': 8.90, 'j': -6.50, 'k': -0.83}\n",
        "vec_q = {'i': 3.69, 'j': 3.59, 'k': 5.76}\n",
        "vec_r = {'i': -2.07, 'j': -4.36, 'k': 8.70}\n",
        "vec_s = {'i': 0.88, 'j': -7.75, 'k': 6.94}\n",
        "vec_t = {'i': -0.14, 'j': -2.85, 'k': 3.38}\n",
        "\n",
        "\n",
        "result_qs = {'i': vec_q['i'] + vec_s['i'], 'j': vec_q['j'] + vec_s['j'], 'k': vec_q['k'] + vec_s['k']}\n",
        "result_rp = {'i': vec_r['i'] - vec_p['i'], 'j': vec_r['j'] - vec_p['j'], 'k': vec_r['k'] - vec_p['k']}\n",
        "result_prt = {'i': vec_p['i'] + vec_r['i'] + vec_t['i'], 'j': vec_p['j'] + vec_r['j'] + vec_t['j'], 'k': vec_p['k'] + vec_r['k'] + vec_t['k'}\n",
        "result_qrs = {'i': vec_q['i'] + vec_r['i'] - vec_s['i'], 'j': vec_q['j'] + vec_r['j'] - vec_s['j'], 'k': vec_q['k'] + vec_r['k'] - vec_s['k']}\n",
        "result_pqrst = {'i': vec_p['i'] + vec_q['i'] - vec_r['i'] + vec_s['i'] - vec_t['i'], 'j': vec_p['j'] + vec_q['j'] - vec_r['j'] + vec_s['j'] - vec_t['j'], 'k': vec_p['k'] + vec_q['k'] - vec_r['k'] + vec_s['k'] - vec_t['k'}\n",
        "\n",
        "\n",
        "print(\"vec_q + vec_s:\", result_qs)\n",
        "print(\"vec_r - vec_p:\", result_rp)\n",
        "print(\"vec_p + vec_r + vec_t:\", result_prt)\n",
        "print(\"vec_q + vec_r - vec_s:\", result_qrs)\n",
        "print(\"vec_p + vec_q - vec_r + vec_s - vec_t:\", result_pqrst)\n"
      ],
      "metadata": {
        "id": "jXWEpCk_fuBv"
      },
      "execution_count": null,
      "outputs": []
    },
    {
      "cell_type": "markdown",
      "source": [
        "[click for our solution](Python04_Vectors_Solutions.ipynb)\n"
      ],
      "metadata": {
        "id": "64RJoIJHfAFl"
      }
    },
    {
      "cell_type": "markdown",
      "source": [
        "The main idea here is to show you that straightforward scaling usually messes up your code and it is not easy to handle and refactor. And so we need to introduce a simpler, new paradigm which can hold multiple data linked to itself. Such paradigm is called ''Object'' in programming."
      ],
      "metadata": {
        "id": "8C3gExCxkQrs"
      }
    }
  ]
}